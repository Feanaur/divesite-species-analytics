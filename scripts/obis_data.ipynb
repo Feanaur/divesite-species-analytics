{
 "cells": [
  {
   "cell_type": "code",
   "execution_count": 1,
   "id": "4dfca42e-5e96-4b84-84d4-7f5e3a3930e9",
   "metadata": {},
   "outputs": [
    {
     "name": "stderr",
     "output_type": "stream",
     "text": [
      "24/03/02 13:23:32 WARN Utils: Your hostname, Alexanders-MacBook-Pro.local resolves to a loopback address: 127.0.0.1; using 172.16.140.184 instead (on interface en0)\n",
      "24/03/02 13:23:32 WARN Utils: Set SPARK_LOCAL_IP if you need to bind to another address\n",
      "Setting default log level to \"WARN\".\n",
      "To adjust logging level use sc.setLogLevel(newLevel). For SparkR, use setLogLevel(newLevel).\n",
      "24/03/02 13:23:33 WARN NativeCodeLoader: Unable to load native-hadoop library for your platform... using builtin-java classes where applicable\n"
     ]
    }
   ],
   "source": [
    "import pandas as pd\n",
    "import pyspark\n",
    "from pyspark.sql import SparkSession\n",
    "\n",
    "spark = SparkSession.builder \\\n",
    "    .master(\"local[*]\") \\\n",
    "    .appName('test') \\\n",
    "    .config(\"spark.executor.memory\", \"6g\") \\\n",
    "    .config(\"spark.driver.memory\", \"10g\") \\\n",
    "    .config(\"spark.memory.offHeap.enabled\", \"true\") \\\n",
    "    .config(\"spark.memory.offHeap.size\",\"6g\") \\\n",
    "    .config(\"spark.sql.files.maxPartitionBytes\", \"128m\") \\\n",
    "    .config(\"spark.sql.shuffle.partitions\", \"300\") \\\n",
    "    .getOrCreate()\n",
    "\n",
    "\n",
    "pd.set_option('display.max_columns', 500)\n",
    "\n",
    "!wget \"https://obis-datasets.ams3.digitaloceanspaces.com/exports/obis_20231025.parquet\""
   ]
  },
  {
   "cell_type": "code",
   "execution_count": 2,
   "id": "fc1a7e25",
   "metadata": {},
   "outputs": [
    {
     "name": "stderr",
     "output_type": "stream",
     "text": [
      "                                                                                \r"
     ]
    }
   ],
   "source": [
    "# Read the parquet file\n",
    "df = spark.read.parquet('/Users/helloworld/Downloads/obis_20231025.parquet')\n",
    "obis_columns = [\"marine\", \"class\", \"genus\", \"species\", \"variety\", \"individualCount\", \"eventDate\", \"eventTime\", \"year\", \"month\", \"day\", \"country\", \"locality\", \"decimalLongitude\", \"decimalLatitude\"]\n",
    "\n",
    "# # Select the relevant columns and repartition\n",
    "obis_df = df.select(obis_columns)\n",
    "obis_df.registerTempTable('obis_data')\n",
    "obis_df.repartition(300).write.mode('overwrite').parquet('obis.parquet')"
   ]
  }
 ],
 "metadata": {
  "kernelspec": {
   "display_name": "Python 3 (ipykernel)",
   "language": "python",
   "name": "python3"
  },
  "language_info": {
   "codemirror_mode": {
    "name": "ipython",
    "version": 3
   },
   "file_extension": ".py",
   "mimetype": "text/x-python",
   "name": "python",
   "nbconvert_exporter": "python",
   "pygments_lexer": "ipython3",
   "version": "3.11.7"
  }
 },
 "nbformat": 4,
 "nbformat_minor": 5
}
